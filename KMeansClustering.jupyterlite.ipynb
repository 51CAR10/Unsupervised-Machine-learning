{
  "metadata": {
    "kernelspec": {
      "name": "python",
      "display_name": "Python (Pyodide)",
      "language": "python"
    },
    "language_info": {
      "codemirror_mode": {
        "name": "python",
        "version": 3
      },
      "file_extension": ".py",
      "mimetype": "text/x-python",
      "name": "python",
      "nbconvert_exporter": "python",
      "pygments_lexer": "ipython3",
      "version": "3.8"
    }
  },
  "nbformat_minor": 4,
  "nbformat": 4,
  "cells": [
    {
      "cell_type": "markdown",
      "source": "<p style=\"text-align:center\">\n    <a href=\"https://skills.network/?utm_medium=Exinfluencer&utm_source=Exinfluencer&utm_content=000026UJ&utm_term=10006555&utm_id=NA-SkillsNetwork-Channel-SkillsNetworkCoursesIBMML0187ENSkillsNetwork31430127-2022-01-01\">\n    <img src=\"https://cf-courses-data.s3.us.cloud-object-storage.appdomain.cloud/assets/logos/SN_web_lightmode.png\" width=\"200\" alt=\"Skills Network Logo\"  />\n    </a>\n</p>\n\n# **Practice Lab: K Means Clustering Lab**\n\nEstimated time needed: **45** minutes\n",
      "metadata": {
        "button": false,
        "new_sheet": false,
        "run_control": {
          "read_only": false
        }
      }
    },
    {
      "cell_type": "markdown",
      "source": "How do brands always know which new products to recommend me? Can they read my mind? Well, sort of. By (legally) gathering information about you and your purchasing habits, corporations are able to group you with other customers that have similar characteristics. K Means clustering is one such algorithm that can categorize similar people! Then, companies can determine this population's potential preferences and personalize your experience with the brand, which ranges from product recommendations to email marketing content. \n\nIn this notebook, you will learn the fundamentals of how to accomplish grouping with K Means and use it for segmenting mall customers and images.\n\n<img src=\"https://cf-courses-data.s3.us.cloud-object-storage.appdomain.cloud/IBM-ML0187EN-SkillsNetwork/labs/module%203/images/online-shopping.jpg\" style=\"width: 60%\">\n",
      "metadata": {}
    },
    {
      "cell_type": "markdown",
      "source": "## **Table of Contents**\n\n<ol>\n    <li><a href=\"https://#Objectives\">Objectives</a></li>\n    <li>\n        <a href=\"https://#Setup\">Setup</a>\n        <ol>\n            <li><a href=\"https://#Installing-Required-Libraries\">Installing Required Libraries</a></li>\n            <li><a href=\"https://#Importing-Required-Libraries\">Importing Required Libraries</a></li>\n        </ol>\n    </li>\n    <li>\n        <a href=\"https://#Introduction\">Introduction</a>\n        <ol>\n            <li><a href=\"https://#How-does-K-Means-Clustering-work?\">How does K Means Clustering work?</a></li>\n        </ol>\n    </li>\n    <li><a href=\"https://#Example-1:-Visual-intuition\">Example 1: Visual Intuition</a></li>\n    <li>\n        <a href=\"https://#Example-2:-Segmenting-Customer-Data\">Example 2: Segmenting Customer Data</a>\n        <ol>\n            <li><a href=\"https://#Problem-Statement\">Problem Statement</a></li>\n            <li><a href=\"https://#About-the-dataset\">About the Dataset</a></li>\n            <li><a href=\"https://https://#Loading-the-dataset\">Loading the Dataset</a></li>\n            <li><a href=\"https://#Getting-familiar-with-the-data\">Getting familiar with the data</a></li>\n            <li><a href=\"https://#Clusting-the-data-using-K-Means\">Clustering the data using K Means</a></li>\n        </ol>\n    </li>\n    <li>\n        <a href=\"https://#Example-3:-Image-Segmentation\">Example 3: Image Segmentation</a>\n        <ol>\n            <li><a href=\"#Loading-the-data\">Loading the Data</a></li>\n            <li><a href=\"https://#Segmenting-the-image-using-2-clusters\">Segmenting the image using 2 clusters</a></li>\n            <li><a href=\"https://#Converting-to-black-and-white\">Converting to black and white</a></li>\n        </ol>\n    </li>    \n</ol>\n\n<a href=\"https://#Exercises\">Exercises</a>\n\n<ol>\n    <li><a href=\"https://#Exercise-1---Fitting-KMeans-With-k=2\">Exercise 1 - Fitting K Means with k=2</a></li>\n    <li><a href=\"https://#Exercise-2---Viewing-Segmented-Image\">Exercise 2 - Viewing Segmented Image</a></li>\n    <li><a href=\"https://#Exercise-3---Fitting-KMeans-With-k=4-and-Viewing-Segmented-Image\">Exercise 3 - Fitting K Means with k=4 and Viewing Segmented Image</a></li>\n</ol>\n",
      "metadata": {}
    },
    {
      "cell_type": "markdown",
      "source": "## Objectives\n\nAfter completing this lab you will be able to:\n\n*   Explain the theory behind K Means Clustering\n*   Implement K Means Clustering to perform exploratory data analysis\n*   Perform Image segmentation using K Means\n",
      "metadata": {}
    },
    {
      "cell_type": "markdown",
      "source": "***\n",
      "metadata": {}
    },
    {
      "cell_type": "markdown",
      "source": "## Setup\n\nFor this lab, we will be using the following libraries:\n\n*   [`pandas`](https://pandas.pydata.org/?utm_medium=Exinfluencer&utm_source=Exinfluencer&utm_content=000026UJ&utm_term=10006555&utm_id=NA-SkillsNetwork-Channel-SkillsNetworkCoursesIBMML0187ENSkillsNetwork31430127-2021-01-01) for managing the data.\n*   [`numpy`](https://numpy.org/?utm_medium=Exinfluencer&utm_source=Exinfluencer&utm_content=000026UJ&utm_term=10006555&utm_id=NA-SkillsNetwork-Channel-SkillsNetworkCoursesIBMML0187ENSkillsNetwork31430127-2021-01-01) for mathematical operations.\n*   [`sklearn`](https://scikit-learn.org/stable/?utm_medium=Exinfluencer&utm_source=Exinfluencer&utm_content=000026UJ&utm_term=10006555&utm_id=NA-SkillsNetwork-Channel-SkillsNetworkCoursesIBMML0187ENSkillsNetwork31430127-2021-01-01) for machine learning and machine-learning-pipeline related functions.\n*   [`matplotlib`](https://matplotlib.org/?utm_medium=Exinfluencer&utm_source=Exinfluencer&utm_content=000026UJ&utm_term=10006555&utm_id=NA-SkillsNetwork-Channel-SkillsNetworkCoursesIBMML0187ENSkillsNetwork31430127-2021-01-01) for additional plotting tools.\n",
      "metadata": {}
    },
    {
      "cell_type": "markdown",
      "source": "### Installing Required Libraries\n\nThe following required libraries are pre-installed in the Skills Network Labs environment. However, if you run this notebook commands in a different Jupyter environment (e.g. Watson Studio or Anaconda), you will need to install these libraries by removing the `#` sign before `!mamba` in the corresponding code cell below.\n",
      "metadata": {}
    },
    {
      "cell_type": "code",
      "source": "# All Libraries required for this lab are listed below. The libraries pre-installed on Skills Network Labs are commented.\nimport piplite\nawait piplite.install(['skillsnetwork'])\n# await piplite.install(['numpy', 'pandas', 'scikit-learn', 'matplotlib'])",
      "metadata": {
        "trusted": true
      },
      "outputs": [
        {
          "ename": "<class 'ValueError'>",
          "evalue": "Can't find a pure Python 3 wheel for 'widgetsnbextension==3.6.4'.\nSee: https://pyodide.org/en/stable/usage/faq.html#why-can-t-micropip-find-a-pure-python-wheel-for-a-package\nYou can use `await micropip.install(..., keep_going=True)` to get a list of all packages with missing wheels.",
          "traceback": [
            "\u001b[0;31m---------------------------------------------------------------------------\u001b[0m",
            "\u001b[0;31mValueError\u001b[0m                                Traceback (most recent call last)",
            "Cell \u001b[0;32mIn[3], line 3\u001b[0m\n\u001b[1;32m      1\u001b[0m \u001b[38;5;66;03m# All Libraries required for this lab are listed below. The libraries pre-installed on Skills Network Labs are commented.\u001b[39;00m\n\u001b[1;32m      2\u001b[0m \u001b[38;5;28;01mimport\u001b[39;00m \u001b[38;5;21;01mpiplite\u001b[39;00m\n\u001b[0;32m----> 3\u001b[0m \u001b[38;5;28;01mawait\u001b[39;00m piplite\u001b[38;5;241m.\u001b[39minstall([\u001b[38;5;124m'\u001b[39m\u001b[38;5;124mskillsnetwork\u001b[39m\u001b[38;5;124m'\u001b[39m])\n\u001b[1;32m      4\u001b[0m \u001b[38;5;66;03m# await piplite.install(['numpy', 'pandas', 'scikit-learn', 'matplotlib'])\u001b[39;00m\n",
            "File \u001b[0;32m/lib/python3.11/site-packages/piplite/piplite.py:116\u001b[0m, in \u001b[0;36m_install\u001b[0;34m(requirements, keep_going, deps, credentials, pre, index_urls, verbose)\u001b[0m\n\u001b[1;32m    114\u001b[0m \u001b[38;5;250m\u001b[39m\u001b[38;5;124;03m\"\"\"Invoke micropip.install with a patch to get data from local indexes\"\"\"\u001b[39;00m\n\u001b[1;32m    115\u001b[0m \u001b[38;5;28;01mwith\u001b[39;00m patch(\u001b[38;5;124m\"\u001b[39m\u001b[38;5;124mmicropip.package_index.query_package\u001b[39m\u001b[38;5;124m\"\u001b[39m, _query_package):\n\u001b[0;32m--> 116\u001b[0m     \u001b[38;5;28;01mreturn\u001b[39;00m \u001b[38;5;28;01mawait\u001b[39;00m micropip\u001b[38;5;241m.\u001b[39minstall(\n\u001b[1;32m    117\u001b[0m         requirements\u001b[38;5;241m=\u001b[39mrequirements,\n\u001b[1;32m    118\u001b[0m         keep_going\u001b[38;5;241m=\u001b[39mkeep_going,\n\u001b[1;32m    119\u001b[0m         deps\u001b[38;5;241m=\u001b[39mdeps,\n\u001b[1;32m    120\u001b[0m         credentials\u001b[38;5;241m=\u001b[39mcredentials,\n\u001b[1;32m    121\u001b[0m         pre\u001b[38;5;241m=\u001b[39mpre,\n\u001b[1;32m    122\u001b[0m         index_urls\u001b[38;5;241m=\u001b[39mindex_urls,\n\u001b[1;32m    123\u001b[0m         verbose\u001b[38;5;241m=\u001b[39mverbose,\n\u001b[1;32m    124\u001b[0m     )\n",
            "File \u001b[0;32m/lib/python3.11/site-packages/micropip/_commands/install.py:142\u001b[0m, in \u001b[0;36minstall\u001b[0;34m(requirements, keep_going, deps, credentials, pre, index_urls, verbose)\u001b[0m\n\u001b[1;32m    130\u001b[0m     index_urls \u001b[38;5;241m=\u001b[39m package_index\u001b[38;5;241m.\u001b[39mINDEX_URLS[:]\n\u001b[1;32m    132\u001b[0m transaction \u001b[38;5;241m=\u001b[39m Transaction(\n\u001b[1;32m    133\u001b[0m     ctx\u001b[38;5;241m=\u001b[39mctx,\n\u001b[1;32m    134\u001b[0m     ctx_extras\u001b[38;5;241m=\u001b[39m[],\n\u001b[0;32m   (...)\u001b[0m\n\u001b[1;32m    140\u001b[0m     index_urls\u001b[38;5;241m=\u001b[39mindex_urls,\n\u001b[1;32m    141\u001b[0m )\n\u001b[0;32m--> 142\u001b[0m \u001b[38;5;28;01mawait\u001b[39;00m transaction\u001b[38;5;241m.\u001b[39mgather_requirements(requirements)\n\u001b[1;32m    144\u001b[0m \u001b[38;5;28;01mif\u001b[39;00m transaction\u001b[38;5;241m.\u001b[39mfailed:\n\u001b[1;32m    145\u001b[0m     failed_requirements \u001b[38;5;241m=\u001b[39m \u001b[38;5;124m\"\u001b[39m\u001b[38;5;124m, \u001b[39m\u001b[38;5;124m\"\u001b[39m\u001b[38;5;241m.\u001b[39mjoin([\u001b[38;5;124mf\u001b[39m\u001b[38;5;124m\"\u001b[39m\u001b[38;5;124m'\u001b[39m\u001b[38;5;132;01m{\u001b[39;00mreq\u001b[38;5;132;01m}\u001b[39;00m\u001b[38;5;124m'\u001b[39m\u001b[38;5;124m\"\u001b[39m \u001b[38;5;28;01mfor\u001b[39;00m req \u001b[38;5;129;01min\u001b[39;00m transaction\u001b[38;5;241m.\u001b[39mfailed])\n",
            "File \u001b[0;32m/lib/python3.11/site-packages/micropip/transaction.py:204\u001b[0m, in \u001b[0;36mTransaction.gather_requirements\u001b[0;34m(self, requirements)\u001b[0m\n\u001b[1;32m    201\u001b[0m \u001b[38;5;28;01mfor\u001b[39;00m requirement \u001b[38;5;129;01min\u001b[39;00m requirements:\n\u001b[1;32m    202\u001b[0m     requirement_promises\u001b[38;5;241m.\u001b[39mappend(\u001b[38;5;28mself\u001b[39m\u001b[38;5;241m.\u001b[39madd_requirement(requirement))\n\u001b[0;32m--> 204\u001b[0m \u001b[38;5;28;01mawait\u001b[39;00m asyncio\u001b[38;5;241m.\u001b[39mgather(\u001b[38;5;241m*\u001b[39mrequirement_promises)\n",
            "File \u001b[0;32m/lib/python3.11/site-packages/micropip/transaction.py:211\u001b[0m, in \u001b[0;36mTransaction.add_requirement\u001b[0;34m(self, req)\u001b[0m\n\u001b[1;32m    208\u001b[0m     \u001b[38;5;28;01mreturn\u001b[39;00m \u001b[38;5;28;01mawait\u001b[39;00m \u001b[38;5;28mself\u001b[39m\u001b[38;5;241m.\u001b[39madd_requirement_inner(req)\n\u001b[1;32m    210\u001b[0m \u001b[38;5;28;01mif\u001b[39;00m \u001b[38;5;129;01mnot\u001b[39;00m urlparse(req)\u001b[38;5;241m.\u001b[39mpath\u001b[38;5;241m.\u001b[39mendswith(\u001b[38;5;124m\"\u001b[39m\u001b[38;5;124m.whl\u001b[39m\u001b[38;5;124m\"\u001b[39m):\n\u001b[0;32m--> 211\u001b[0m     \u001b[38;5;28;01mreturn\u001b[39;00m \u001b[38;5;28;01mawait\u001b[39;00m \u001b[38;5;28mself\u001b[39m\u001b[38;5;241m.\u001b[39madd_requirement_inner(Requirement(req))\n\u001b[1;32m    213\u001b[0m \u001b[38;5;66;03m# custom download location\u001b[39;00m\n\u001b[1;32m    214\u001b[0m wheel \u001b[38;5;241m=\u001b[39m WheelInfo\u001b[38;5;241m.\u001b[39mfrom_url(req)\n",
            "File \u001b[0;32m/lib/python3.11/site-packages/micropip/transaction.py:300\u001b[0m, in \u001b[0;36mTransaction.add_requirement_inner\u001b[0;34m(self, req)\u001b[0m\n\u001b[1;32m    297\u001b[0m     \u001b[38;5;28;01mif\u001b[39;00m \u001b[38;5;28mself\u001b[39m\u001b[38;5;241m.\u001b[39m_add_requirement_from_pyodide_lock(req):\n\u001b[1;32m    298\u001b[0m         \u001b[38;5;28;01mreturn\u001b[39;00m\n\u001b[0;32m--> 300\u001b[0m     \u001b[38;5;28;01mawait\u001b[39;00m \u001b[38;5;28mself\u001b[39m\u001b[38;5;241m.\u001b[39m_add_requirement_from_package_index(req)\n\u001b[1;32m    301\u001b[0m \u001b[38;5;28;01melse\u001b[39;00m:\n\u001b[1;32m    302\u001b[0m     \u001b[38;5;28;01mtry\u001b[39;00m:\n",
            "File \u001b[0;32m/lib/python3.11/site-packages/micropip/transaction.py:347\u001b[0m, in \u001b[0;36mTransaction._add_requirement_from_package_index\u001b[0;34m(self, req)\u001b[0m\n\u001b[1;32m    344\u001b[0m \u001b[38;5;28;01mif\u001b[39;00m satisfied:\n\u001b[1;32m    345\u001b[0m     logger\u001b[38;5;241m.\u001b[39minfo(\u001b[38;5;124mf\u001b[39m\u001b[38;5;124m\"\u001b[39m\u001b[38;5;124mRequirement already satisfied: \u001b[39m\u001b[38;5;132;01m{\u001b[39;00mreq\u001b[38;5;132;01m}\u001b[39;00m\u001b[38;5;124m (\u001b[39m\u001b[38;5;132;01m{\u001b[39;00mver\u001b[38;5;132;01m}\u001b[39;00m\u001b[38;5;124m)\u001b[39m\u001b[38;5;124m\"\u001b[39m)\n\u001b[0;32m--> 347\u001b[0m \u001b[38;5;28;01mawait\u001b[39;00m \u001b[38;5;28mself\u001b[39m\u001b[38;5;241m.\u001b[39madd_wheel(wheel, req\u001b[38;5;241m.\u001b[39mextras, specifier\u001b[38;5;241m=\u001b[39m\u001b[38;5;28mstr\u001b[39m(req\u001b[38;5;241m.\u001b[39mspecifier))\n",
            "File \u001b[0;32m/lib/python3.11/site-packages/micropip/transaction.py:385\u001b[0m, in \u001b[0;36mTransaction.add_wheel\u001b[0;34m(self, wheel, extras, specifier)\u001b[0m\n\u001b[1;32m    383\u001b[0m \u001b[38;5;28;01mawait\u001b[39;00m wheel\u001b[38;5;241m.\u001b[39mdownload(\u001b[38;5;28mself\u001b[39m\u001b[38;5;241m.\u001b[39mfetch_kwargs)\n\u001b[1;32m    384\u001b[0m \u001b[38;5;28;01mif\u001b[39;00m \u001b[38;5;28mself\u001b[39m\u001b[38;5;241m.\u001b[39mdeps:\n\u001b[0;32m--> 385\u001b[0m     \u001b[38;5;28;01mawait\u001b[39;00m \u001b[38;5;28mself\u001b[39m\u001b[38;5;241m.\u001b[39mgather_requirements(wheel\u001b[38;5;241m.\u001b[39mrequires(extras))\n\u001b[1;32m    387\u001b[0m \u001b[38;5;28mself\u001b[39m\u001b[38;5;241m.\u001b[39mwheels\u001b[38;5;241m.\u001b[39mappend(wheel)\n",
            "File \u001b[0;32m/lib/python3.11/site-packages/micropip/transaction.py:204\u001b[0m, in \u001b[0;36mTransaction.gather_requirements\u001b[0;34m(self, requirements)\u001b[0m\n\u001b[1;32m    201\u001b[0m \u001b[38;5;28;01mfor\u001b[39;00m requirement \u001b[38;5;129;01min\u001b[39;00m requirements:\n\u001b[1;32m    202\u001b[0m     requirement_promises\u001b[38;5;241m.\u001b[39mappend(\u001b[38;5;28mself\u001b[39m\u001b[38;5;241m.\u001b[39madd_requirement(requirement))\n\u001b[0;32m--> 204\u001b[0m \u001b[38;5;28;01mawait\u001b[39;00m asyncio\u001b[38;5;241m.\u001b[39mgather(\u001b[38;5;241m*\u001b[39mrequirement_promises)\n",
            "File \u001b[0;32m/lib/python3.11/site-packages/micropip/transaction.py:208\u001b[0m, in \u001b[0;36mTransaction.add_requirement\u001b[0;34m(self, req)\u001b[0m\n\u001b[1;32m    206\u001b[0m \u001b[38;5;28;01masync\u001b[39;00m \u001b[38;5;28;01mdef\u001b[39;00m \u001b[38;5;21madd_requirement\u001b[39m(\u001b[38;5;28mself\u001b[39m, req: \u001b[38;5;28mstr\u001b[39m \u001b[38;5;241m|\u001b[39m Requirement) \u001b[38;5;241m-\u001b[39m\u001b[38;5;241m>\u001b[39m \u001b[38;5;28;01mNone\u001b[39;00m:\n\u001b[1;32m    207\u001b[0m     \u001b[38;5;28;01mif\u001b[39;00m \u001b[38;5;28misinstance\u001b[39m(req, Requirement):\n\u001b[0;32m--> 208\u001b[0m         \u001b[38;5;28;01mreturn\u001b[39;00m \u001b[38;5;28;01mawait\u001b[39;00m \u001b[38;5;28mself\u001b[39m\u001b[38;5;241m.\u001b[39madd_requirement_inner(req)\n\u001b[1;32m    210\u001b[0m     \u001b[38;5;28;01mif\u001b[39;00m \u001b[38;5;129;01mnot\u001b[39;00m urlparse(req)\u001b[38;5;241m.\u001b[39mpath\u001b[38;5;241m.\u001b[39mendswith(\u001b[38;5;124m\"\u001b[39m\u001b[38;5;124m.whl\u001b[39m\u001b[38;5;124m\"\u001b[39m):\n\u001b[1;32m    211\u001b[0m         \u001b[38;5;28;01mreturn\u001b[39;00m \u001b[38;5;28;01mawait\u001b[39;00m \u001b[38;5;28mself\u001b[39m\u001b[38;5;241m.\u001b[39madd_requirement_inner(Requirement(req))\n",
            "File \u001b[0;32m/lib/python3.11/site-packages/micropip/transaction.py:300\u001b[0m, in \u001b[0;36mTransaction.add_requirement_inner\u001b[0;34m(self, req)\u001b[0m\n\u001b[1;32m    297\u001b[0m     \u001b[38;5;28;01mif\u001b[39;00m \u001b[38;5;28mself\u001b[39m\u001b[38;5;241m.\u001b[39m_add_requirement_from_pyodide_lock(req):\n\u001b[1;32m    298\u001b[0m         \u001b[38;5;28;01mreturn\u001b[39;00m\n\u001b[0;32m--> 300\u001b[0m     \u001b[38;5;28;01mawait\u001b[39;00m \u001b[38;5;28mself\u001b[39m\u001b[38;5;241m.\u001b[39m_add_requirement_from_package_index(req)\n\u001b[1;32m    301\u001b[0m \u001b[38;5;28;01melse\u001b[39;00m:\n\u001b[1;32m    302\u001b[0m     \u001b[38;5;28;01mtry\u001b[39;00m:\n",
            "File \u001b[0;32m/lib/python3.11/site-packages/micropip/transaction.py:339\u001b[0m, in \u001b[0;36mTransaction._add_requirement_from_package_index\u001b[0;34m(self, req)\u001b[0m\n\u001b[1;32m    331\u001b[0m \u001b[38;5;250m\u001b[39m\u001b[38;5;124;03m\"\"\"\u001b[39;00m\n\u001b[1;32m    332\u001b[0m \u001b[38;5;124;03mFind requirement from package index. If the requirement is found,\u001b[39;00m\n\u001b[1;32m    333\u001b[0m \u001b[38;5;124;03madd it to the package list and return True. Otherwise, return False.\u001b[39;00m\n\u001b[1;32m    334\u001b[0m \u001b[38;5;124;03m\"\"\"\u001b[39;00m\n\u001b[1;32m    335\u001b[0m metadata \u001b[38;5;241m=\u001b[39m \u001b[38;5;28;01mawait\u001b[39;00m package_index\u001b[38;5;241m.\u001b[39mquery_package(\n\u001b[1;32m    336\u001b[0m     req\u001b[38;5;241m.\u001b[39mname, \u001b[38;5;28mself\u001b[39m\u001b[38;5;241m.\u001b[39mfetch_kwargs, index_urls\u001b[38;5;241m=\u001b[39m\u001b[38;5;28mself\u001b[39m\u001b[38;5;241m.\u001b[39mindex_urls\n\u001b[1;32m    337\u001b[0m )\n\u001b[0;32m--> 339\u001b[0m wheel \u001b[38;5;241m=\u001b[39m \u001b[43mfind_wheel\u001b[49m\u001b[43m(\u001b[49m\u001b[43mmetadata\u001b[49m\u001b[43m,\u001b[49m\u001b[43m \u001b[49m\u001b[43mreq\u001b[49m\u001b[43m)\u001b[49m\n\u001b[1;32m    341\u001b[0m \u001b[38;5;66;03m# Maybe while we were downloading pypi_json some other branch\u001b[39;00m\n\u001b[1;32m    342\u001b[0m \u001b[38;5;66;03m# installed the wheel?\u001b[39;00m\n\u001b[1;32m    343\u001b[0m satisfied, ver \u001b[38;5;241m=\u001b[39m \u001b[38;5;28mself\u001b[39m\u001b[38;5;241m.\u001b[39mcheck_version_satisfied(req)\n",
            "File \u001b[0;32m/lib/python3.11/site-packages/micropip/transaction.py:431\u001b[0m, in \u001b[0;36mfind_wheel\u001b[0;34m(metadata, req)\u001b[0m\n\u001b[1;32m    428\u001b[0m     \u001b[38;5;28;01mif\u001b[39;00m best_wheel \u001b[38;5;129;01mis\u001b[39;00m \u001b[38;5;129;01mnot\u001b[39;00m \u001b[38;5;28;01mNone\u001b[39;00m:\n\u001b[1;32m    429\u001b[0m         \u001b[38;5;28;01mreturn\u001b[39;00m wheel\n\u001b[0;32m--> 431\u001b[0m \u001b[38;5;28;01mraise\u001b[39;00m \u001b[38;5;167;01mValueError\u001b[39;00m(\n\u001b[1;32m    432\u001b[0m     \u001b[38;5;124mf\u001b[39m\u001b[38;5;124m\"\u001b[39m\u001b[38;5;124mCan\u001b[39m\u001b[38;5;124m'\u001b[39m\u001b[38;5;124mt find a pure Python 3 wheel for \u001b[39m\u001b[38;5;124m'\u001b[39m\u001b[38;5;132;01m{\u001b[39;00mreq\u001b[38;5;132;01m}\u001b[39;00m\u001b[38;5;124m'\u001b[39m\u001b[38;5;124m.\u001b[39m\u001b[38;5;130;01m\\n\u001b[39;00m\u001b[38;5;124m\"\u001b[39m\n\u001b[1;32m    433\u001b[0m     \u001b[38;5;124mf\u001b[39m\u001b[38;5;124m\"\u001b[39m\u001b[38;5;124mSee: \u001b[39m\u001b[38;5;132;01m{\u001b[39;00mFAQ_URLS[\u001b[38;5;124m'\u001b[39m\u001b[38;5;124mcant_find_wheel\u001b[39m\u001b[38;5;124m'\u001b[39m]\u001b[38;5;132;01m}\u001b[39;00m\u001b[38;5;130;01m\\n\u001b[39;00m\u001b[38;5;124m\"\u001b[39m\n\u001b[1;32m    434\u001b[0m     \u001b[38;5;124m\"\u001b[39m\u001b[38;5;124mYou can use `await micropip.install(..., keep_going=True)` \u001b[39m\u001b[38;5;124m\"\u001b[39m\n\u001b[1;32m    435\u001b[0m     \u001b[38;5;124m\"\u001b[39m\u001b[38;5;124mto get a list of all packages with missing wheels.\u001b[39m\u001b[38;5;124m\"\u001b[39m\n\u001b[1;32m    436\u001b[0m )\n",
            "\u001b[0;31mValueError\u001b[0m: Can't find a pure Python 3 wheel for 'widgetsnbextension==3.6.4'.\nSee: https://pyodide.org/en/stable/usage/faq.html#why-can-t-micropip-find-a-pure-python-wheel-for-a-package\nYou can use `await micropip.install(..., keep_going=True)` to get a list of all packages with missing wheels."
          ],
          "output_type": "error"
        }
      ],
      "execution_count": 3
    },
    {
      "cell_type": "markdown",
      "source": "### Importing Required Libraries\n",
      "metadata": {}
    },
    {
      "cell_type": "code",
      "source": "def warn(*args, **kwargs):\n    pass\nimport warnings\nwarnings.warn = warn\nwarnings.filterwarnings('ignore')\n\nimport skillsnetwork\nimport numpy as np\nimport pandas as pd\nfrom sklearn.cluster import KMeans\nfrom matplotlib import pyplot as plt\n%matplotlib inline",
      "metadata": {
        "trusted": true
      },
      "outputs": [
        {
          "ename": "<class 'ModuleNotFoundError'>",
          "evalue": "No module named 'skillsnetwork'",
          "traceback": [
            "\u001b[0;31m---------------------------------------------------------------------------\u001b[0m",
            "\u001b[0;31mModuleNotFoundError\u001b[0m                       Traceback (most recent call last)",
            "Cell \u001b[0;32mIn[2], line 7\u001b[0m\n\u001b[1;32m      4\u001b[0m warnings\u001b[38;5;241m.\u001b[39mwarn \u001b[38;5;241m=\u001b[39m warn\n\u001b[1;32m      5\u001b[0m warnings\u001b[38;5;241m.\u001b[39mfilterwarnings(\u001b[38;5;124m'\u001b[39m\u001b[38;5;124mignore\u001b[39m\u001b[38;5;124m'\u001b[39m)\n\u001b[0;32m----> 7\u001b[0m \u001b[38;5;28;01mimport\u001b[39;00m \u001b[38;5;21;01mskillsnetwork\u001b[39;00m\n\u001b[1;32m      8\u001b[0m \u001b[38;5;28;01mimport\u001b[39;00m \u001b[38;5;21;01mnumpy\u001b[39;00m \u001b[38;5;28;01mas\u001b[39;00m \u001b[38;5;21;01mnp\u001b[39;00m\n\u001b[1;32m      9\u001b[0m \u001b[38;5;28;01mimport\u001b[39;00m \u001b[38;5;21;01mpandas\u001b[39;00m \u001b[38;5;28;01mas\u001b[39;00m \u001b[38;5;21;01mpd\u001b[39;00m\n",
            "\u001b[0;31mModuleNotFoundError\u001b[0m: No module named 'skillsnetwork'"
          ],
          "output_type": "error"
        }
      ],
      "execution_count": 2
    },
    {
      "cell_type": "markdown",
      "source": "## Introduction\n",
      "metadata": {}
    },
    {
      "cell_type": "markdown",
      "source": "K Means Clustering is an unsupervised machine learning algorithm that organizes data into distinct groups based on certain similarities. The principle underlying the algorithm is simple to understand and is a great introduction to the potential of unsupervised learning algorithms for exploratory data analysis. In this lab, we will brush up on the basic theory underlying the algorithm and then go ahead and apply it ourselves to a real problem.\n",
      "metadata": {}
    },
    {
      "cell_type": "markdown",
      "source": "### About K Means\n\n| Pros                                                  | Cons                                            |\n| ----------------------------------------------------- | ----------------------------------------------- |\n| Easy to implement                                     | Must manually chose K                           |\n| Always converges to local minimum                     | Not guaranteed to find global minimum           |\n| Scales well to large datasets                         | May not perform well on data of varying density |\n| Generalizes to clusters of different shapes and sizes | Clusters are biased by outliers                 |\n",
      "metadata": {}
    },
    {
      "cell_type": "markdown",
      "source": "### How does K Means Clustering work?\n",
      "metadata": {}
    },
    {
      "cell_type": "markdown",
      "source": "The KMeans algorithm is quite simple and can be broken down into the following steps:\n\n<ol>\n    <li>We specify the hyperparameter <code>k</code>, which refers to the number of clusters we want our data to be clustered into.</li>\n    <li>Then <code>k</code> centroids, or cluster-means, are initialized at random.</li>\n    <li>Finally, the optimal centroid locations are found. This is done by the following algorithmic loop:</li>\n    <ol>\n        <li><b>Assignment step:</b> Assign each data point to the nearest centroid (calculated as the squared distance from the data point to centroid).</li>\n        <li><b>Update step:</b> Recompute each centroid as the mean of the data points assigned to that cluster in the previous step.</li>\n    </ol>\n    <li>We repeat the above step until the centroid locations remain unchanged. This tells us the algorithm has converged on a local optima and gives us the final cluster assignments for that run.</li>\n</ol>\n",
      "metadata": {}
    },
    {
      "cell_type": "markdown",
      "source": "## Example 1: Visual intuition\n\nTake a look at the following animation for some physical intuition of what's going on during each iteration.\n\nIt shows several iterations of K Means Clustering (steps 3 & 4 in previous section) applied to a sample dataset with <code>k = 2</code> clusters.\n\n![img](https://cf-courses-data.s3.us.cloud-object-storage.appdomain.cloud/IBM-ML0187EN-SkillsNetwork/labs/module%203/images/KMeansClustering_example.gif)\n\nIn each iteration, you can see the previous locations of the centroids (faded) and the their current location after they were moved to the mean of the data points assigned to that cluster. The data points are colored by the cluster they are assigned to after that iteration.\n\nFinally, on iteration 6; we see the centroids of the clusters remain unchanged - this means the KMeans algorithm has converged and finished.\n",
      "metadata": {}
    },
    {
      "cell_type": "markdown",
      "source": "## Example 2: Segmenting Customer Data\n\nWhile the theory and implementation of these algorithms are fascinating in their own right, as data scientists we're driven by the insights we can uncover and the stories we can tell with data.\n\nNow more than ever, companies are making data driven business decisions, in part thanks to the massive increase of data available, as well as the availability of computational power to process and make sense of the data.\n\nCustomer segmentation is a process where customers are grouped together based on some common characteristics. For example, customers can be divided based on age, gender, income, marital status, and others. Segmenting customers in this way can have several applications for a business. For instance, common characteristics of the most profitable customers can be identified and a tailored marketing strategy can be implemented to target them.\n\nLet's have a go at customer segmentation using the K Means Clustering algorithm.\n",
      "metadata": {}
    },
    {
      "cell_type": "markdown",
      "source": "### Problem Statement\n\nSuppose you are a data scientist at MegaMind Sporting Goods Ltd.\n\nYou've been tasked with segmenting customers into groups depending on their purchasing habits.\n\nOnce you have this information, your colleague John will be able to generate clothing recommendations tailored for each customer group.\n",
      "metadata": {}
    },
    {
      "cell_type": "markdown",
      "source": "### About the dataset\n\nWe will explore a simple example of customer segmentation using the [Mall Customers](https://github.com/SteffiPeTaffy/machineLearningAZ/blob/master/Machine%20Learning%20A-Z%20Template%20Folder/Part%204%20-%20Clustering/Section%2024%20-%20K-Means%20Clustering/Mall_Customers.csv) dataset. This is an artificial dataset that contains data on customers of a shopping mall. In particular, the following features are given about each customer.\n\n*   **CustomerID** - A unique identifying number for each the customer\n*   **Gender**\n*   **Age**\n*   **Annual Income** - The annual income of the customer given in thousands of dollars\n*   **Spending Score** - A value given to the customer based on their spending habits, such as total spending and frequency. A higher value indicates a higher value customer for the mall\n",
      "metadata": {}
    },
    {
      "cell_type": "markdown",
      "source": "### Loading the dataset\n",
      "metadata": {}
    },
    {
      "cell_type": "code",
      "source": "# Download the dataset and read it into a Pandas dataframe\nawait skillsnetwork.download('https://cf-courses-data.s3.us.cloud-object-storage.appdomain.cloud/IBM-ML0187EN-SkillsNetwork/labs/module%203/data/CustomerData.csv')\ndf = pd.read_csv('CustomerData.csv', index_col=0)",
      "metadata": {
        "trusted": true
      },
      "outputs": [
        {
          "ename": "<class 'NameError'>",
          "evalue": "name 'skillsnetwork' is not defined",
          "traceback": [
            "\u001b[0;31m---------------------------------------------------------------------------\u001b[0m",
            "\u001b[0;31mNameError\u001b[0m                                 Traceback (most recent call last)",
            "Cell \u001b[0;32mIn[4], line 2\u001b[0m\n\u001b[1;32m      1\u001b[0m \u001b[38;5;66;03m# Download the dataset and read it into a Pandas dataframe\u001b[39;00m\n\u001b[0;32m----> 2\u001b[0m \u001b[38;5;28;01mawait\u001b[39;00m \u001b[43mskillsnetwork\u001b[49m\u001b[38;5;241m.\u001b[39mdownload(\u001b[38;5;124m'\u001b[39m\u001b[38;5;124mhttps://cf-courses-data.s3.us.cloud-object-storage.appdomain.cloud/IBM-ML0187EN-SkillsNetwork/labs/module\u001b[39m\u001b[38;5;124m%\u001b[39m\u001b[38;5;124m203/data/CustomerData.csv\u001b[39m\u001b[38;5;124m'\u001b[39m)\n\u001b[1;32m      3\u001b[0m df \u001b[38;5;241m=\u001b[39m pd\u001b[38;5;241m.\u001b[39mread_csv(\u001b[38;5;124m'\u001b[39m\u001b[38;5;124mCustomerData.csv\u001b[39m\u001b[38;5;124m'\u001b[39m, index_col\u001b[38;5;241m=\u001b[39m\u001b[38;5;241m0\u001b[39m)\n",
            "\u001b[0;31mNameError\u001b[0m: name 'skillsnetwork' is not defined"
          ],
          "output_type": "error"
        }
      ],
      "execution_count": 4
    },
    {
      "cell_type": "markdown",
      "source": "Let's take a peek at our dataset to ensure it was loaded properly.\n",
      "metadata": {}
    },
    {
      "cell_type": "code",
      "source": "df.head()",
      "metadata": {},
      "outputs": [],
      "execution_count": null
    },
    {
      "cell_type": "markdown",
      "source": "### Getting familiar with the data\n\nFirst, let's take a look at the data we have to gain a better general understanding of it before we attempt any clustering.\n\nLet's start by looking at the distributions of some of the features.\n",
      "metadata": {}
    },
    {
      "cell_type": "markdown",
      "source": "We can start by analyzing the ratio of male to female customers that were surveyed.\n",
      "metadata": {}
    },
    {
      "cell_type": "code",
      "source": "num_male = df[df['Gender'] == 'Male'].shape[0]\nnum_female = df[df['Gender'] == 'Female'].shape[0]\nplt.pie(\n    [num_male, num_female],\n    labels=['Male', 'Female'],\n    startangle=90,\n    autopct='%1.f%%',\n    colors=['lavender', 'thistle'])\nplt.title('Gender of survey respondants')\nplt.show()",
      "metadata": {},
      "outputs": [],
      "execution_count": null
    },
    {
      "cell_type": "markdown",
      "source": "We see that we have slightly more female respondents in our survey. Next let's plot histograms of the age and annual incomes of the customers.\n",
      "metadata": {}
    },
    {
      "cell_type": "code",
      "source": "plt.hist(df['Annual Income (k$)'], bins=10)\nplt.xlabel('Annual Income (k$)')\nplt.ylabel('Number of Customers')\nplt.show()",
      "metadata": {},
      "outputs": [],
      "execution_count": null
    },
    {
      "cell_type": "markdown",
      "source": "Our distribution appears slightly skewed to the right. Not as many people are making over $100k per year.\n\nLet's take a look at people's annual income vs spending score:\n",
      "metadata": {}
    },
    {
      "cell_type": "code",
      "source": "xlabel = 'Annual Income (k$)'\nylabel = 'Spending Score (1-100)'\nX = df[[xlabel, ylabel]]\nplt.scatter(X[xlabel], X[ylabel])\nplt.xlabel(xlabel)\nplt.ylabel(ylabel)\nplt.show()",
      "metadata": {},
      "outputs": [],
      "execution_count": null
    },
    {
      "cell_type": "markdown",
      "source": "This looks promising, we can see our customers seem to fall into \\~5 categories:\n\n1.  **Low** income, **high** spending.\n2.  **High** income, **low** spending.\n3.  **Low** income, **low** spending.\n4.  **High** income, **low** spending.\n5.  **Medium** income, **medium** spending.\n\nIf we manage to segment our existing customers into these 5 categories, we will obtain exactly the information John requires:\n",
      "metadata": {}
    },
    {
      "cell_type": "markdown",
      "source": "### Clusting the data using K Means\n\nLet's start clusting our data!\n\nTo do so, we simply load the <code>sklearn.cluster.KMeans</code> object - with our desired number of clusters <code>k = 5</code>:\n",
      "metadata": {}
    },
    {
      "cell_type": "code",
      "source": "km = KMeans(n_clusters=5, random_state=42)\nkm.fit(X)",
      "metadata": {},
      "outputs": [],
      "execution_count": null
    },
    {
      "cell_type": "code",
      "source": "for label in np.unique(km.labels_):\n    X_ = X[label == km.labels_]\n    plt.scatter(X_['Annual Income (k$)'], X_['Spending Score (1-100)'], label=label)\nplt.xlabel(xlabel)\nplt.ylabel(ylabel)\nplt.show()",
      "metadata": {},
      "outputs": [],
      "execution_count": null
    },
    {
      "cell_type": "markdown",
      "source": "Awesome! Our KMeans algorithm was able to correctly group our data into the 5 categories we initially noticed\n",
      "metadata": {}
    },
    {
      "cell_type": "markdown",
      "source": "## Example 3: Image Segmentation\n\nImage segmentation is the process of locating objects and boundaries in an image.\n\nVarious clustering can be used for this task.\n\n**How** is this done?:\n\n1.  We cluster pixels using their brightness (grayscale) or rgb values (color).\n2.  We replace each pixel with the average brightness or rgb value of pixels in their cluster.\n\nLet's look at an example using KMeans:\n",
      "metadata": {}
    },
    {
      "cell_type": "markdown",
      "source": "### Loading the data\n\nLet's start by loading the data into a <code>numpy.array</code> and taking a look at the image:\n",
      "metadata": {}
    },
    {
      "cell_type": "code",
      "source": "await skillsnetwork.download('https://cf-courses-data.s3.us.cloud-object-storage.appdomain.cloud/IBM-ML0187EN-SkillsNetwork/labs/module%203/images/cameraman.png')\nimg = plt.imread('cameraman.png')\nprint(f'The image is {img.shape[0]}px by {img.shape[1]}px')\nplt.axis('off')\nplt.imshow(img)\nplt.show()",
      "metadata": {},
      "outputs": [],
      "execution_count": null
    },
    {
      "cell_type": "markdown",
      "source": "### Segmenting the image using 2 clusters\n\nIn this example we will segment our image into <code>k = 2</code> color-clusters:\n",
      "metadata": {}
    },
    {
      "cell_type": "code",
      "source": "k = 2\n\nX = img.reshape(-1, 1)\nkm = KMeans(n_clusters=k, random_state=42)",
      "metadata": {},
      "outputs": [],
      "execution_count": null
    },
    {
      "cell_type": "code",
      "source": "km.fit(X)",
      "metadata": {},
      "outputs": [],
      "execution_count": null
    },
    {
      "cell_type": "markdown",
      "source": "Let's see our segmented image; once we replace each pixel with the mean of the cluster it belongs to:\n",
      "metadata": {}
    },
    {
      "cell_type": "code",
      "source": "seg = np.zeros(X.shape)\nfor i in range(k):\n    seg[km.labels_ == i] = km.cluster_centers_[i]\nseg = seg.reshape(img.shape)\nplt.axis('off')\nplt.imshow(seg)",
      "metadata": {},
      "outputs": [],
      "execution_count": null
    },
    {
      "cell_type": "markdown",
      "source": "Awesome! Even as a human we can still easily recognize our image after segmentation with <code>k = 2</code> colors.\n\n### Converting to black and white\n\nAlternatively we may view the image in black and white:\n",
      "metadata": {}
    },
    {
      "cell_type": "code",
      "source": "seg = np.zeros(X.shape)\nfor i in range(k):\n    seg[km.labels_ == i] = 255 if km.cluster_centers_[i] > 0.5 else 0\nseg = seg.reshape(img.shape).astype(np.uint8)\nplt.axis('off')\nplt.imshow(seg)\nplt.show()",
      "metadata": {},
      "outputs": [],
      "execution_count": null
    },
    {
      "cell_type": "markdown",
      "source": "# Exercises\n\nIn this section, we will segment another image; this time in full-color with various values for k.\n\nPlease run the following cell to load the data for the exercises:\n",
      "metadata": {}
    },
    {
      "cell_type": "code",
      "source": "await skillsnetwork.download('https://cf-courses-data.s3.us.cloud-object-storage.appdomain.cloud/IBM-ML0187EN-SkillsNetwork/labs/module%203/images/kingfisher.jpeg')\nimg = plt.imread('kingfisher.jpeg', format='jpeg')\nplt.axis('off')\nplt.imshow(img)\nplt.show()",
      "metadata": {},
      "outputs": [],
      "execution_count": null
    },
    {
      "cell_type": "markdown",
      "source": "### Exercise 1 - Fitting KMeans With k=2\n",
      "metadata": {}
    },
    {
      "cell_type": "code",
      "source": "# TODO\n",
      "metadata": {},
      "outputs": [],
      "execution_count": null
    },
    {
      "cell_type": "markdown",
      "source": "<details>\n    <summary>Click here for Solution</summary>\n\n```python\nk = 2\n\nX = img.reshape(-1, 3) # Remember, since image is RGB\nkm = KMeans(n_clusters=k, random_state=42)\nkm.fit(X)\n```\n\n</details>\n",
      "metadata": {}
    },
    {
      "cell_type": "markdown",
      "source": "### Exercise 2 - Viewing Segmented Image\n",
      "metadata": {}
    },
    {
      "cell_type": "code",
      "source": "# TODO\n",
      "metadata": {},
      "outputs": [],
      "execution_count": null
    },
    {
      "cell_type": "markdown",
      "source": "<details>\n    <summary>Click here for Solution</summary>\n\n```python\nseg = np.zeros(X.shape)\nfor i in range(k):\n    seg[km.labels_ == i] = km.cluster_centers_[i]\nseg = seg.reshape(img.shape).astype(np.uint8)\nplt.imshow(seg)\n```\n\n</details>\n",
      "metadata": {}
    },
    {
      "cell_type": "markdown",
      "source": "### Exercise 3 - Fitting KMeans With k=4 and Viewing Segmented Image\n",
      "metadata": {}
    },
    {
      "cell_type": "code",
      "source": "# TODO\n",
      "metadata": {},
      "outputs": [],
      "execution_count": null
    },
    {
      "cell_type": "markdown",
      "source": "<details>\n    <summary>Click here for Solution</summary>\n\n```python\nk = 4\n\nX = img.reshape(-1, 3) # Remember, since image is rgb\nkm = KMeans(n_clusters=k, random_state=42)\nkm.fit(X)\n\nseg = np.zeros(X.shape)\nfor i in range(k):\n    seg[km.labels_ == i] = km.cluster_centers_[i]\nseg = seg.reshape(img.shape).astype(np.uint8)\nplt.imshow(seg)\n```\n\n</details>\n",
      "metadata": {}
    },
    {
      "cell_type": "markdown",
      "source": "Congratulations! You've completed the exercises. Later, you will learn about another clustering algorithm, GMM which performs even better on image segmentation.\n",
      "metadata": {}
    },
    {
      "cell_type": "markdown",
      "source": "### Thank you for completing this lab!\n\n## Author\n\n[David Pasternak](https://www.linkedin.com/in/david-pasternak-6b84a2208/?utm_medium=Exinfluencer&utm_source=Exinfluencer&utm_content=000026UJ&utm_term=10006555&utm_id=NA-SkillsNetwork-Channel-SkillsNetworkCoursesIBMML0187ENSkillsNetwork31430127-2022-01-01)\n\n[Sam Prokopchuk](https://www.linkedin.com/in/sam-prokopchuk-1908b21a0/?utm_medium=Exinfluencer&utm_source=Exinfluencer&utm_content=000026UJ&utm_term=10006555&utm_id=NA-SkillsNetwork-Channel-SkillsNetworkCoursesIBMML0187ENSkillsNetwork31430127-2022-01-01)\n\n### Other Contributors\n\n## Change Log\n\n| Date (YYYY-MM-DD) | Version | Changed By      | Change Description    |\n| ----------------- | ------- | --------------- | --------------------- |\n| 2022-03-28        | 0.1     | David Pasternak | Created Lab           |\n| 2022-05-10        | 0.2     | Sam Prokopchuk  | Complete Draft of Lab |\n|2022-07-18.        |0.2      |Svitlana K      | Review and edit|\n\n## <h3 align=\"center\"> © IBM Corporation 2022. All rights reserved. <h3/>\n",
      "metadata": {}
    }
  ]
}